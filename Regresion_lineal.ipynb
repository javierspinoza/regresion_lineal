{
 "cells": [
  {
   "cell_type": "markdown",
   "id": "b2a11176-0d86-4de0-be66-830c72308702",
   "metadata": {},
   "source": [
    "1.Realizar un análisis exploratorio de los datos para identificar relaciones entre variables, valores atípicos, tendencias, etc."
   ]
  },
  {
   "cell_type": "code",
   "execution_count": 74,
   "id": "aa483669-9ed3-4dd8-97af-0e8e17dc3f34",
   "metadata": {},
   "outputs": [
    {
     "data": {
      "text/html": [
       "<div>\n",
       "<style scoped>\n",
       "    .dataframe tbody tr th:only-of-type {\n",
       "        vertical-align: middle;\n",
       "    }\n",
       "\n",
       "    .dataframe tbody tr th {\n",
       "        vertical-align: top;\n",
       "    }\n",
       "\n",
       "    .dataframe thead th {\n",
       "        text-align: right;\n",
       "    }\n",
       "</style>\n",
       "<table border=\"1\" class=\"dataframe\">\n",
       "  <thead>\n",
       "    <tr style=\"text-align: right;\">\n",
       "      <th></th>\n",
       "      <th>nombre</th>\n",
       "      <th>ano</th>\n",
       "      <th>precio_de_venta</th>\n",
       "      <th>km_recorridos</th>\n",
       "      <th>combustible</th>\n",
       "      <th>tipo_vendedor</th>\n",
       "      <th>trasmision</th>\n",
       "      <th>dueno</th>\n",
       "      <th>kilometraje</th>\n",
       "      <th>motor</th>\n",
       "      <th>poder_maximo</th>\n",
       "      <th>torque</th>\n",
       "      <th>asientos</th>\n",
       "    </tr>\n",
       "  </thead>\n",
       "  <tbody>\n",
       "    <tr>\n",
       "      <th>0</th>\n",
       "      <td>Maruti Swift Dzire VDI</td>\n",
       "      <td>2014.0</td>\n",
       "      <td>450000.0</td>\n",
       "      <td>145500.0</td>\n",
       "      <td>Diesel</td>\n",
       "      <td>Individual</td>\n",
       "      <td>Manual</td>\n",
       "      <td>First Owner</td>\n",
       "      <td>23.4 kmpl</td>\n",
       "      <td>1248 CC</td>\n",
       "      <td>74 bhp</td>\n",
       "      <td>190Nm@ 2000rpm</td>\n",
       "      <td>5.0</td>\n",
       "    </tr>\n",
       "    <tr>\n",
       "      <th>1</th>\n",
       "      <td>Skoda Rapid 1.5 TDI Ambition</td>\n",
       "      <td>2014.0</td>\n",
       "      <td>370000.0</td>\n",
       "      <td>120000.0</td>\n",
       "      <td>Diesel</td>\n",
       "      <td>Individual</td>\n",
       "      <td>Manual</td>\n",
       "      <td>Second Owner</td>\n",
       "      <td>21.14 kmpl</td>\n",
       "      <td>1498 CC</td>\n",
       "      <td>103.52 bhp</td>\n",
       "      <td>250Nm@ 1500-2500rpm</td>\n",
       "      <td>5.0</td>\n",
       "    </tr>\n",
       "    <tr>\n",
       "      <th>2</th>\n",
       "      <td>Honda City 2017-2020 EXi,2006,158000,140000,Pe...</td>\n",
       "      <td>NaN</td>\n",
       "      <td>NaN</td>\n",
       "      <td>NaN</td>\n",
       "      <td>NaN</td>\n",
       "      <td>NaN</td>\n",
       "      <td>NaN</td>\n",
       "      <td>NaN</td>\n",
       "      <td>NaN</td>\n",
       "      <td>NaN</td>\n",
       "      <td>NaN</td>\n",
       "      <td>NaN</td>\n",
       "      <td>NaN</td>\n",
       "    </tr>\n",
       "    <tr>\n",
       "      <th>3</th>\n",
       "      <td>Hyundai i20 Sportz Diesel</td>\n",
       "      <td>2010.0</td>\n",
       "      <td>225000.0</td>\n",
       "      <td>127000.0</td>\n",
       "      <td>Diesel</td>\n",
       "      <td>Individual</td>\n",
       "      <td>Manual</td>\n",
       "      <td>First Owner</td>\n",
       "      <td>23.0 kmpl</td>\n",
       "      <td>1396 CC</td>\n",
       "      <td>90 bhp</td>\n",
       "      <td>22.4 kgm at 1750-2750rpm</td>\n",
       "      <td>5.0</td>\n",
       "    </tr>\n",
       "    <tr>\n",
       "      <th>4</th>\n",
       "      <td>Maruti Swift VXI BSIII,2007,130000,120000,Petr...</td>\n",
       "      <td>NaN</td>\n",
       "      <td>NaN</td>\n",
       "      <td>NaN</td>\n",
       "      <td>NaN</td>\n",
       "      <td>NaN</td>\n",
       "      <td>NaN</td>\n",
       "      <td>NaN</td>\n",
       "      <td>NaN</td>\n",
       "      <td>NaN</td>\n",
       "      <td>NaN</td>\n",
       "      <td>NaN</td>\n",
       "      <td>NaN</td>\n",
       "    </tr>\n",
       "    <tr>\n",
       "      <th>5</th>\n",
       "      <td>Hyundai Xcent 1.2 VTVT E Plus</td>\n",
       "      <td>2017.0</td>\n",
       "      <td>440000.0</td>\n",
       "      <td>45000.0</td>\n",
       "      <td>Petrol</td>\n",
       "      <td>Individual</td>\n",
       "      <td>Manual</td>\n",
       "      <td>First Owner</td>\n",
       "      <td>20.14 kmpl</td>\n",
       "      <td>1197 CC</td>\n",
       "      <td>81.86 bhp</td>\n",
       "      <td>113.75nm@ 4000rpm</td>\n",
       "      <td>5.0</td>\n",
       "    </tr>\n",
       "    <tr>\n",
       "      <th>6</th>\n",
       "      <td>Maruti Wagon R LXI DUO BSIII,2007,96000,175000...</td>\n",
       "      <td>NaN</td>\n",
       "      <td>NaN</td>\n",
       "      <td>NaN</td>\n",
       "      <td>NaN</td>\n",
       "      <td>NaN</td>\n",
       "      <td>NaN</td>\n",
       "      <td>NaN</td>\n",
       "      <td>NaN</td>\n",
       "      <td>NaN</td>\n",
       "      <td>NaN</td>\n",
       "      <td>NaN</td>\n",
       "      <td>NaN</td>\n",
       "    </tr>\n",
       "    <tr>\n",
       "      <th>7</th>\n",
       "      <td>Maruti 800 DX BSII</td>\n",
       "      <td>2001.0</td>\n",
       "      <td>45000.0</td>\n",
       "      <td>5000.0</td>\n",
       "      <td>Petrol</td>\n",
       "      <td>Individual</td>\n",
       "      <td>Manual</td>\n",
       "      <td>Second Owner</td>\n",
       "      <td>16.1 kmpl</td>\n",
       "      <td>796 CC</td>\n",
       "      <td>37 bhp</td>\n",
       "      <td>59Nm@ 2500rpm</td>\n",
       "      <td>4.0</td>\n",
       "    </tr>\n",
       "    <tr>\n",
       "      <th>8</th>\n",
       "      <td>Toyota Etios VXD</td>\n",
       "      <td>2011.0</td>\n",
       "      <td>350000.0</td>\n",
       "      <td>90000.0</td>\n",
       "      <td>Diesel</td>\n",
       "      <td>Individual</td>\n",
       "      <td>Manual</td>\n",
       "      <td>First Owner</td>\n",
       "      <td>23.59 kmpl</td>\n",
       "      <td>1364 CC</td>\n",
       "      <td>67.1 bhp</td>\n",
       "      <td>170Nm@ 1800-2400rpm</td>\n",
       "      <td>5.0</td>\n",
       "    </tr>\n",
       "    <tr>\n",
       "      <th>9</th>\n",
       "      <td>Ford Figo Diesel Celebration Edition</td>\n",
       "      <td>2013.0</td>\n",
       "      <td>200000.0</td>\n",
       "      <td>169000.0</td>\n",
       "      <td>Diesel</td>\n",
       "      <td>Individual</td>\n",
       "      <td>Manual</td>\n",
       "      <td>First Owner</td>\n",
       "      <td>20.0 kmpl</td>\n",
       "      <td>1399 CC</td>\n",
       "      <td>68.1 bhp</td>\n",
       "      <td>160Nm@ 2000rpm</td>\n",
       "      <td>5.0</td>\n",
       "    </tr>\n",
       "    <tr>\n",
       "      <th>10</th>\n",
       "      <td>Renault Duster 110PS Diesel RxL</td>\n",
       "      <td>2014.0</td>\n",
       "      <td>500000.0</td>\n",
       "      <td>68000.0</td>\n",
       "      <td>Diesel</td>\n",
       "      <td>Individual</td>\n",
       "      <td>Manual</td>\n",
       "      <td>Second Owner</td>\n",
       "      <td>19.01 kmpl</td>\n",
       "      <td>1461 CC</td>\n",
       "      <td>108.45 bhp</td>\n",
       "      <td>248Nm@ 2250rpm</td>\n",
       "      <td>5.0</td>\n",
       "    </tr>\n",
       "    <tr>\n",
       "      <th>11</th>\n",
       "      <td>Maruti Zen LX</td>\n",
       "      <td>2005.0</td>\n",
       "      <td>92000.0</td>\n",
       "      <td>100000.0</td>\n",
       "      <td>Petrol</td>\n",
       "      <td>Individual</td>\n",
       "      <td>Manual</td>\n",
       "      <td>Second Owner</td>\n",
       "      <td>17.3 kmpl</td>\n",
       "      <td>993 CC</td>\n",
       "      <td>60 bhp</td>\n",
       "      <td>78Nm@ 4500rpm</td>\n",
       "      <td>5.0</td>\n",
       "    </tr>\n",
       "    <tr>\n",
       "      <th>12</th>\n",
       "      <td>Maruti Swift Dzire VDi</td>\n",
       "      <td>2009.0</td>\n",
       "      <td>280000.0</td>\n",
       "      <td>140000.0</td>\n",
       "      <td>Diesel</td>\n",
       "      <td>Individual</td>\n",
       "      <td>Manual</td>\n",
       "      <td>Second Owner</td>\n",
       "      <td>19.3 kmpl</td>\n",
       "      <td>1248 CC</td>\n",
       "      <td>73.9 bhp</td>\n",
       "      <td>190Nm@ 2000rpm</td>\n",
       "      <td>5.0</td>\n",
       "    </tr>\n",
       "    <tr>\n",
       "      <th>13</th>\n",
       "      <td>Maruti Swift 1.3 VXi</td>\n",
       "      <td>2007.0</td>\n",
       "      <td>200000.0</td>\n",
       "      <td>80000.0</td>\n",
       "      <td>Petrol</td>\n",
       "      <td>Individual</td>\n",
       "      <td>Manual</td>\n",
       "      <td>Second Owner</td>\n",
       "      <td>NaN</td>\n",
       "      <td>NaN</td>\n",
       "      <td>NaN</td>\n",
       "      <td>NaN</td>\n",
       "      <td>NaN</td>\n",
       "    </tr>\n",
       "    <tr>\n",
       "      <th>14</th>\n",
       "      <td>Maruti Wagon R LXI Minor</td>\n",
       "      <td>2009.0</td>\n",
       "      <td>180000.0</td>\n",
       "      <td>90000.0</td>\n",
       "      <td>Petrol</td>\n",
       "      <td>Individual</td>\n",
       "      <td>Manual</td>\n",
       "      <td>Second Owner</td>\n",
       "      <td>18.9 kmpl</td>\n",
       "      <td>1061 CC</td>\n",
       "      <td>67 bhp</td>\n",
       "      <td>84Nm@ 3500rpm</td>\n",
       "      <td>5.0</td>\n",
       "    </tr>\n",
       "    <tr>\n",
       "      <th>15</th>\n",
       "      <td>Mahindra KUV 100 mFALCON G80 K8 5str</td>\n",
       "      <td>2016.0</td>\n",
       "      <td>400000.0</td>\n",
       "      <td>40000.0</td>\n",
       "      <td>Petrol</td>\n",
       "      <td>Individual</td>\n",
       "      <td>Manual</td>\n",
       "      <td>First Owner</td>\n",
       "      <td>18.15 kmpl</td>\n",
       "      <td>1198 CC</td>\n",
       "      <td>82 bhp</td>\n",
       "      <td>115Nm@ 3500-3600rpm</td>\n",
       "      <td>5.0</td>\n",
       "    </tr>\n",
       "    <tr>\n",
       "      <th>16</th>\n",
       "      <td>Maruti Ertiga SHVS VDI</td>\n",
       "      <td>2016.0</td>\n",
       "      <td>778000.0</td>\n",
       "      <td>70000.0</td>\n",
       "      <td>Diesel</td>\n",
       "      <td>Individual</td>\n",
       "      <td>Manual</td>\n",
       "      <td>Second Owner</td>\n",
       "      <td>24.52 kmpl</td>\n",
       "      <td>1248 CC</td>\n",
       "      <td>88.5 bhp</td>\n",
       "      <td>200Nm@ 1750rpm</td>\n",
       "      <td>7.0</td>\n",
       "    </tr>\n",
       "    <tr>\n",
       "      <th>17</th>\n",
       "      <td>Hyundai i20 1.4 CRDi Asta</td>\n",
       "      <td>2012.0</td>\n",
       "      <td>500000.0</td>\n",
       "      <td>53000.0</td>\n",
       "      <td>Diesel</td>\n",
       "      <td>Individual</td>\n",
       "      <td>Manual</td>\n",
       "      <td>Second Owner</td>\n",
       "      <td>23.0 kmpl</td>\n",
       "      <td>1396 CC</td>\n",
       "      <td>90 bhp</td>\n",
       "      <td>22.4 kgm at 1750-2750rpm</td>\n",
       "      <td>5.0</td>\n",
       "    </tr>\n",
       "    <tr>\n",
       "      <th>18</th>\n",
       "      <td>Maruti Alto LX</td>\n",
       "      <td>2002.0</td>\n",
       "      <td>150000.0</td>\n",
       "      <td>80000.0</td>\n",
       "      <td>Petrol</td>\n",
       "      <td>Individual</td>\n",
       "      <td>Manual</td>\n",
       "      <td>Second Owner</td>\n",
       "      <td>19.7 kmpl</td>\n",
       "      <td>796 CC</td>\n",
       "      <td>46.3 bhp</td>\n",
       "      <td>62Nm@ 3000rpm</td>\n",
       "      <td>5.0</td>\n",
       "    </tr>\n",
       "    <tr>\n",
       "      <th>19</th>\n",
       "      <td>Hyundai i20 2015-2017 Asta 1.4 CRDi</td>\n",
       "      <td>2016.0</td>\n",
       "      <td>680000.0</td>\n",
       "      <td>100000.0</td>\n",
       "      <td>Diesel</td>\n",
       "      <td>Individual</td>\n",
       "      <td>Manual</td>\n",
       "      <td>First Owner</td>\n",
       "      <td>22.54 kmpl</td>\n",
       "      <td>1396 CC</td>\n",
       "      <td>88.73 bhp</td>\n",
       "      <td>219.7Nm@ 1500-2750rpm</td>\n",
       "      <td>5.0</td>\n",
       "    </tr>\n",
       "  </tbody>\n",
       "</table>\n",
       "</div>"
      ],
      "text/plain": [
       "                                               nombre     ano  \\\n",
       "0                              Maruti Swift Dzire VDI  2014.0   \n",
       "1                        Skoda Rapid 1.5 TDI Ambition  2014.0   \n",
       "2   Honda City 2017-2020 EXi,2006,158000,140000,Pe...     NaN   \n",
       "3                           Hyundai i20 Sportz Diesel  2010.0   \n",
       "4   Maruti Swift VXI BSIII,2007,130000,120000,Petr...     NaN   \n",
       "5                       Hyundai Xcent 1.2 VTVT E Plus  2017.0   \n",
       "6   Maruti Wagon R LXI DUO BSIII,2007,96000,175000...     NaN   \n",
       "7                                  Maruti 800 DX BSII  2001.0   \n",
       "8                                    Toyota Etios VXD  2011.0   \n",
       "9                Ford Figo Diesel Celebration Edition  2013.0   \n",
       "10                    Renault Duster 110PS Diesel RxL  2014.0   \n",
       "11                                      Maruti Zen LX  2005.0   \n",
       "12                             Maruti Swift Dzire VDi  2009.0   \n",
       "13                               Maruti Swift 1.3 VXi  2007.0   \n",
       "14                           Maruti Wagon R LXI Minor  2009.0   \n",
       "15               Mahindra KUV 100 mFALCON G80 K8 5str  2016.0   \n",
       "16                             Maruti Ertiga SHVS VDI  2016.0   \n",
       "17                          Hyundai i20 1.4 CRDi Asta  2012.0   \n",
       "18                                     Maruti Alto LX  2002.0   \n",
       "19                Hyundai i20 2015-2017 Asta 1.4 CRDi  2016.0   \n",
       "\n",
       "    precio_de_venta  km_recorridos combustible tipo_vendedor trasmision  \\\n",
       "0          450000.0       145500.0      Diesel    Individual     Manual   \n",
       "1          370000.0       120000.0      Diesel    Individual     Manual   \n",
       "2               NaN            NaN         NaN           NaN        NaN   \n",
       "3          225000.0       127000.0      Diesel    Individual     Manual   \n",
       "4               NaN            NaN         NaN           NaN        NaN   \n",
       "5          440000.0        45000.0      Petrol    Individual     Manual   \n",
       "6               NaN            NaN         NaN           NaN        NaN   \n",
       "7           45000.0         5000.0      Petrol    Individual     Manual   \n",
       "8          350000.0        90000.0      Diesel    Individual     Manual   \n",
       "9          200000.0       169000.0      Diesel    Individual     Manual   \n",
       "10         500000.0        68000.0      Diesel    Individual     Manual   \n",
       "11          92000.0       100000.0      Petrol    Individual     Manual   \n",
       "12         280000.0       140000.0      Diesel    Individual     Manual   \n",
       "13         200000.0        80000.0      Petrol    Individual     Manual   \n",
       "14         180000.0        90000.0      Petrol    Individual     Manual   \n",
       "15         400000.0        40000.0      Petrol    Individual     Manual   \n",
       "16         778000.0        70000.0      Diesel    Individual     Manual   \n",
       "17         500000.0        53000.0      Diesel    Individual     Manual   \n",
       "18         150000.0        80000.0      Petrol    Individual     Manual   \n",
       "19         680000.0       100000.0      Diesel    Individual     Manual   \n",
       "\n",
       "           dueno kilometraje    motor poder_maximo                    torque  \\\n",
       "0    First Owner   23.4 kmpl  1248 CC       74 bhp            190Nm@ 2000rpm   \n",
       "1   Second Owner  21.14 kmpl  1498 CC   103.52 bhp       250Nm@ 1500-2500rpm   \n",
       "2            NaN         NaN      NaN          NaN                       NaN   \n",
       "3    First Owner   23.0 kmpl  1396 CC       90 bhp  22.4 kgm at 1750-2750rpm   \n",
       "4            NaN         NaN      NaN          NaN                       NaN   \n",
       "5    First Owner  20.14 kmpl  1197 CC    81.86 bhp         113.75nm@ 4000rpm   \n",
       "6            NaN         NaN      NaN          NaN                       NaN   \n",
       "7   Second Owner   16.1 kmpl   796 CC       37 bhp             59Nm@ 2500rpm   \n",
       "8    First Owner  23.59 kmpl  1364 CC     67.1 bhp       170Nm@ 1800-2400rpm   \n",
       "9    First Owner   20.0 kmpl  1399 CC     68.1 bhp            160Nm@ 2000rpm   \n",
       "10  Second Owner  19.01 kmpl  1461 CC   108.45 bhp            248Nm@ 2250rpm   \n",
       "11  Second Owner   17.3 kmpl   993 CC       60 bhp             78Nm@ 4500rpm   \n",
       "12  Second Owner   19.3 kmpl  1248 CC     73.9 bhp            190Nm@ 2000rpm   \n",
       "13  Second Owner         NaN      NaN          NaN                       NaN   \n",
       "14  Second Owner   18.9 kmpl  1061 CC       67 bhp             84Nm@ 3500rpm   \n",
       "15   First Owner  18.15 kmpl  1198 CC       82 bhp       115Nm@ 3500-3600rpm   \n",
       "16  Second Owner  24.52 kmpl  1248 CC     88.5 bhp            200Nm@ 1750rpm   \n",
       "17  Second Owner   23.0 kmpl  1396 CC       90 bhp  22.4 kgm at 1750-2750rpm   \n",
       "18  Second Owner   19.7 kmpl   796 CC     46.3 bhp             62Nm@ 3000rpm   \n",
       "19   First Owner  22.54 kmpl  1396 CC    88.73 bhp     219.7Nm@ 1500-2750rpm   \n",
       "\n",
       "    asientos  \n",
       "0        5.0  \n",
       "1        5.0  \n",
       "2        NaN  \n",
       "3        5.0  \n",
       "4        NaN  \n",
       "5        5.0  \n",
       "6        NaN  \n",
       "7        4.0  \n",
       "8        5.0  \n",
       "9        5.0  \n",
       "10       5.0  \n",
       "11       5.0  \n",
       "12       5.0  \n",
       "13       NaN  \n",
       "14       5.0  \n",
       "15       5.0  \n",
       "16       7.0  \n",
       "17       5.0  \n",
       "18       5.0  \n",
       "19       5.0  "
      ]
     },
     "execution_count": 74,
     "metadata": {},
     "output_type": "execute_result"
    }
   ],
   "source": [
    "import pandas as pd # manejo y analisis de estructura de datos\n",
    "import numpy as np # calculo numerico y analisis de datos\n",
    "import seaborn as sns # creacion de graficas estadisticas\n",
    "import matplotlib.pyplot as plt # creacion grafica en dos dimenciones\n",
    "\n",
    "# librerias para implementar modelos de ciencias de datos\n",
    "from sklearn import metrics\n",
    "from sklearn.model_selection import train_test_split\n",
    "#from sklearn.linear_model import LogisticRegression # regresion logistica\n",
    "from sklearn.linear_model import LinearRegression # libreria para regresion lineal\n",
    "from sklearn.metrics import classification_report, confusion_matrix\n",
    "\n",
    "#lectura de datos en python y lo cargamos en la variable datos\n",
    "Datos = pd.read_csv('./Car_details_v3.csv')\n",
    "\n",
    "# realizamos lectura de los datos para analisis exploratorio de los datos\n",
    "Datos.head(20)"
   ]
  },
  {
   "cell_type": "code",
   "execution_count": 90,
   "id": "9ca2b7cd-8cb5-4cd9-844c-c275adeecd7a",
   "metadata": {},
   "outputs": [
    {
     "data": {
      "text/html": [
       "<div>\n",
       "<style scoped>\n",
       "    .dataframe tbody tr th:only-of-type {\n",
       "        vertical-align: middle;\n",
       "    }\n",
       "\n",
       "    .dataframe tbody tr th {\n",
       "        vertical-align: top;\n",
       "    }\n",
       "\n",
       "    .dataframe thead th {\n",
       "        text-align: right;\n",
       "    }\n",
       "</style>\n",
       "<table border=\"1\" class=\"dataframe\">\n",
       "  <thead>\n",
       "    <tr style=\"text-align: right;\">\n",
       "      <th></th>\n",
       "      <th>ano</th>\n",
       "      <th>precio_de_venta</th>\n",
       "      <th>km_recorridos</th>\n",
       "      <th>asientos</th>\n",
       "    </tr>\n",
       "  </thead>\n",
       "  <tbody>\n",
       "    <tr>\n",
       "      <th>count</th>\n",
       "      <td>7565.000000</td>\n",
       "      <td>7.565000e+03</td>\n",
       "      <td>7.565000e+03</td>\n",
       "      <td>7565.000000</td>\n",
       "    </tr>\n",
       "    <tr>\n",
       "      <th>mean</th>\n",
       "      <td>2014.249570</td>\n",
       "      <td>6.693004e+05</td>\n",
       "      <td>6.770588e+04</td>\n",
       "      <td>5.421943</td>\n",
       "    </tr>\n",
       "    <tr>\n",
       "      <th>std</th>\n",
       "      <td>3.698028</td>\n",
       "      <td>8.250085e+05</td>\n",
       "      <td>5.687155e+04</td>\n",
       "      <td>0.954765</td>\n",
       "    </tr>\n",
       "    <tr>\n",
       "      <th>min</th>\n",
       "      <td>1994.000000</td>\n",
       "      <td>2.999900e+04</td>\n",
       "      <td>1.000000e+00</td>\n",
       "      <td>2.000000</td>\n",
       "    </tr>\n",
       "    <tr>\n",
       "      <th>25%</th>\n",
       "      <td>2012.000000</td>\n",
       "      <td>2.900000e+05</td>\n",
       "      <td>3.180000e+04</td>\n",
       "      <td>5.000000</td>\n",
       "    </tr>\n",
       "    <tr>\n",
       "      <th>50%</th>\n",
       "      <td>2015.000000</td>\n",
       "      <td>4.750000e+05</td>\n",
       "      <td>6.000000e+04</td>\n",
       "      <td>5.000000</td>\n",
       "    </tr>\n",
       "    <tr>\n",
       "      <th>75%</th>\n",
       "      <td>2017.000000</td>\n",
       "      <td>7.000000e+05</td>\n",
       "      <td>9.000000e+04</td>\n",
       "      <td>5.000000</td>\n",
       "    </tr>\n",
       "    <tr>\n",
       "      <th>max</th>\n",
       "      <td>2020.000000</td>\n",
       "      <td>1.000000e+07</td>\n",
       "      <td>2.360457e+06</td>\n",
       "      <td>14.000000</td>\n",
       "    </tr>\n",
       "  </tbody>\n",
       "</table>\n",
       "</div>"
      ],
      "text/plain": [
       "               ano  precio_de_venta  km_recorridos     asientos\n",
       "count  7565.000000     7.565000e+03   7.565000e+03  7565.000000\n",
       "mean   2014.249570     6.693004e+05   6.770588e+04     5.421943\n",
       "std       3.698028     8.250085e+05   5.687155e+04     0.954765\n",
       "min    1994.000000     2.999900e+04   1.000000e+00     2.000000\n",
       "25%    2012.000000     2.900000e+05   3.180000e+04     5.000000\n",
       "50%    2015.000000     4.750000e+05   6.000000e+04     5.000000\n",
       "75%    2017.000000     7.000000e+05   9.000000e+04     5.000000\n",
       "max    2020.000000     1.000000e+07   2.360457e+06    14.000000"
      ]
     },
     "execution_count": 90,
     "metadata": {},
     "output_type": "execute_result"
    }
   ],
   "source": [
    "#descripcion de los datos maximo minimo el promedio ....\n",
    "Datos.describe()"
   ]
  },
  {
   "cell_type": "code",
   "execution_count": 76,
   "id": "57de9dfe-e2d1-4402-bd55-75fed48b0bfd",
   "metadata": {},
   "outputs": [
    {
     "data": {
      "text/plain": [
       "Text(0.5, 1.0, 'Identificacion de datos faltantes y atipicos')"
      ]
     },
     "execution_count": 76,
     "metadata": {},
     "output_type": "execute_result"
    },
    {
     "data": {
      "image/png": "[encoded data removed]",
      "text/plain": [
       "<Figure size 600x300 with 1 Axes>"
      ]
     },
     "metadata": {},
     "output_type": "display_data"
    }
   ],
   "source": [
    "# identificacion de datos faltantes y atipicos\n",
    "plt.figure(figsize=(6, 3))\n",
    "sns.boxplot(x=Datos['ano'])\n",
    "plt.title('Identificacion de datos faltantes y atipicos', fontsize=11)"
   ]
  },
  {
   "cell_type": "code",
   "execution_count": 77,
   "id": "45e4c6c7-03b3-4310-bf8a-a9e99c4da768",
   "metadata": {},
   "outputs": [
    {
     "data": {
      "text/plain": [
       "Text(0.5, 1.0, 'Identificacion de datos faltantes y atipicos')"
      ]
     },
     "execution_count": 77,
     "metadata": {},
     "output_type": "execute_result"
    },
    {
     "data": {
      "image/png": "[encoded data removed]",
      "text/plain": [
       "<Figure size 600x300 with 1 Axes>"
      ]
     },
     "metadata": {},
     "output_type": "display_data"
    }
   ],
   "source": [
    "# identificacion de datos faltantes y atipicos\n",
    "plt.figure(figsize=(6, 3))\n",
    "sns.boxplot(x=Datos['asientos'])\n",
    "plt.title('Identificacion de datos faltantes y atipicos', fontsize=11)"
   ]
  },
  {
   "cell_type": "markdown",
   "id": "f408f19b-7ba4-409d-b203-93d0cf6255e2",
   "metadata": {},
   "source": [
    "2. Preprocesar los datos limpiándolos, tratando valores faltantes y \n",
    "transformándolos según sea necesario."
   ]
  },
  {
   "cell_type": "code",
   "execution_count": 87,
   "id": "2b7bb64b-b365-4376-810f-30184e7ed3a8",
   "metadata": {},
   "outputs": [
    {
     "name": "stdout",
     "output_type": "stream",
     "text": [
      "Cantidad de registros con NaN en nombre:  0\n",
      "Cantidad de registros con NaN en año:  0\n",
      "Cantidad de registros con NaN en precio de venta:  0\n",
      "Cantidad de registros con NaN en km recorridos:  0\n",
      "Cantidad de registros con NaN en combustible:  0\n",
      "Cantidad de registros con NaN en tipo vendedor:  0\n",
      "Cantidad de registros con NaN en tipo trasmision:  0\n",
      "Cantidad de registros con NaN en tipo dueno:  0\n",
      "Cantidad de registros con NaN en tipo kilometraje:  0\n",
      "Cantidad de registros con NaN en tipo motor:  0\n",
      "Cantidad de registros con NaN en tipo poder_maximo:  0\n",
      "Cantidad de registros con NaN en tipo torque:  0\n",
      "Cantidad de registros con NaN en asientos:  0\n"
     ]
    }
   ],
   "source": [
    "print(\"Cantidad de registros con NaN en nombre: \", Datos['nombre'].isna().sum())\n",
    "print(\"Cantidad de registros con NaN en año: \", Datos['ano'].isna().sum())\n",
    "print(\"Cantidad de registros con NaN en precio de venta: \", Datos['precio_de_venta'].isna().sum())\n",
    "print(\"Cantidad de registros con NaN en km recorridos: \", Datos['km_recorridos'].isna().sum())\n",
    "print(\"Cantidad de registros con NaN en combustible: \", Datos['combustible'].isna().sum())\n",
    "print(\"Cantidad de registros con NaN en tipo vendedor: \", Datos['tipo_vendedor'].isna().sum())\n",
    "print(\"Cantidad de registros con NaN en tipo trasmision: \", Datos['trasmision'].isna().sum())\n",
    "print(\"Cantidad de registros con NaN en tipo dueno: \", Datos['dueno'].isna().sum())\n",
    "print(\"Cantidad de registros con NaN en tipo kilometraje: \", Datos['kilometraje'].isna().sum())\n",
    "print(\"Cantidad de registros con NaN en tipo motor: \", Datos['motor'].isna().sum())\n",
    "print(\"Cantidad de registros con NaN en tipo poder_maximo: \", Datos['poder_maximo'].isna().sum())\n",
    "print(\"Cantidad de registros con NaN en tipo torque: \", Datos['torque'].isna().sum())\n",
    "print(\"Cantidad de registros con NaN en asientos: \", Datos['asientos'].isna().sum())"
   ]
  },
  {
   "cell_type": "code",
   "execution_count": 44,
   "id": "c917a3ea-a3a5-46cd-b5cb-0b4969322e2e",
   "metadata": {},
   "outputs": [],
   "source": [
    "#reemplazar todos los ceros con el valor medio (promedio) de la columna\n",
    "Datos['ano'] = Datos['ano'].fillna(Datos['ano'].mean())\n",
    "Datos['precio_de_venta'] = Datos['precio_de_venta'].fillna(Datos['precio_de_venta'].mean())\n",
    "Datos['km_recorridos'] = Datos['km_recorridos'].fillna(Datos['km_recorridos'].mean())\n",
    "Datos['asientos'] = Datos['asientos'].fillna(Datos['asientos'].mean())"
   ]
  },
  {
   "cell_type": "code",
   "execution_count": 89,
   "id": "4143849b-98f1-4469-9cd9-176c296f1eb8",
   "metadata": {},
   "outputs": [
    {
     "name": "stdout",
     "output_type": "stream",
     "text": [
      "Cantidad de registros con NaN en año:  0\n",
      "Cantidad de registros con NaN en precio de venta:  0\n",
      "Cantidad de registros con NaN en km recorridos:  0\n",
      "Cantidad de registros con NaN en asientos:  0\n"
     ]
    }
   ],
   "source": [
    "#revision de nuevos valores faltantes\n",
    "print(\"Cantidad de registros con NaN en año: \", Datos['ano'].isna().sum())\n",
    "print(\"Cantidad de registros con NaN en precio de venta: \", Datos['precio_de_venta'].isna().sum())\n",
    "print(\"Cantidad de registros con NaN en km recorridos: \", Datos['km_recorridos'].isna().sum())\n",
    "print(\"Cantidad de registros con NaN en asientos: \", Datos['asientos'].isna().sum())"
   ]
  },
  {
   "cell_type": "code",
   "execution_count": 92,
   "id": "c21fa2d8-475a-4976-ba36-d329ce958452",
   "metadata": {},
   "outputs": [
    {
     "data": {
      "text/plain": [
       "Text(0.5, 1.0, 'Identificacion de datos atipicos')"
      ]
     },
     "execution_count": 92,
     "metadata": {},
     "output_type": "execute_result"
    },
    {
     "data": {
      "image/png": "[encoded data removed]",
      "text/plain": [
       "<Figure size 600x300 with 1 Axes>"
      ]
     },
     "metadata": {},
     "output_type": "display_data"
    }
   ],
   "source": [
    "#identificacion de datos atipicos\n",
    "plt.figure(figsize=(6, 3))\n",
    "sns.boxplot(x=Datos['asientos'])\n",
    "plt.title('Identificacion de datos atipicos', fontsize=11)"
   ]
  },
  {
   "cell_type": "code",
   "execution_count": 93,
   "id": "d6e1f3b6-68ef-42a6-b107-5c416cb89c6b",
   "metadata": {},
   "outputs": [
    {
     "name": "stdout",
     "output_type": "stream",
     "text": [
      "El total de datos atipicos es 316\n"
     ]
    }
   ],
   "source": [
    "nivel_minimo=4\n",
    "nivel_maximo=7\n",
    "total_Atipicos=((Datos['asientos']<nivel_minimo)|(Datos['asientos']>nivel_maximo)).sum()\n",
    "print(\"El total de datos atipicos es {}\".format(total_Atipicos))"
   ]
  },
  {
   "cell_type": "code",
   "execution_count": 94,
   "id": "ac64883b-4a9b-42a0-b11c-a3dcf7fed26f",
   "metadata": {},
   "outputs": [],
   "source": [
    "#filtrar datos atipicos, es decir que solo me deje los que estan entre 4 y 7\n",
    "Datos=Datos[(Datos['asientos']<nivel_maximo)&(Datos['asientos']>nivel_minimo)]"
   ]
  },
  {
   "cell_type": "code",
   "execution_count": 95,
   "id": "090500a2-bc1d-4366-8545-d88cfb7df4c5",
   "metadata": {},
   "outputs": [
    {
     "name": "stdout",
     "output_type": "stream",
     "text": [
      "El total de datos atipicos es 0\n"
     ]
    }
   ],
   "source": [
    "# comprovar que se hayan removido los datos atipicos\n",
    "total_Atipicos=((Datos['asientos']<nivel_minimo)|(Datos['asientos']>nivel_maximo)).sum()\n",
    "print(\"El total de datos atipicos es {}\".format(total_Atipicos))"
   ]
  },
  {
   "cell_type": "code",
   "execution_count": 96,
   "id": "0e1beb0a-2421-4ff5-947b-55dd14fb7592",
   "metadata": {},
   "outputs": [
    {
     "name": "stdout",
     "output_type": "stream",
     "text": [
      "<class 'pandas.core.frame.DataFrame'>\n",
      "Index: 6006 entries, 0 to 8127\n",
      "Data columns (total 13 columns):\n",
      " #   Column           Non-Null Count  Dtype  \n",
      "---  ------           --------------  -----  \n",
      " 0   nombre           6006 non-null   object \n",
      " 1   ano              6006 non-null   float64\n",
      " 2   precio_de_venta  6006 non-null   float64\n",
      " 3   km_recorridos    6006 non-null   float64\n",
      " 4   combustible      6006 non-null   object \n",
      " 5   tipo_vendedor    6006 non-null   object \n",
      " 6   trasmision       6006 non-null   object \n",
      " 7   dueno            6006 non-null   object \n",
      " 8   kilometraje      6006 non-null   object \n",
      " 9   motor            6006 non-null   object \n",
      " 10  poder_maximo     6006 non-null   object \n",
      " 11  torque           6006 non-null   object \n",
      " 12  asientos         6006 non-null   float64\n",
      "dtypes: float64(4), object(9)\n",
      "memory usage: 656.9+ KB\n"
     ]
    }
   ],
   "source": [
    "#revision de tipo de datos y de datos faltantes\n",
    "\n",
    "Datos.info()"
   ]
  },
  {
   "cell_type": "markdown",
   "id": "811b6660-27dc-4f76-8267-eea393d910fc",
   "metadata": {},
   "source": [
    "3. Seleccionar las características más relevantes para entrenar el \n",
    "modelo utilizando selección de característica\n",
    "\n",
    "la variable objetivo es el precio de venta"
   ]
  },
  {
   "cell_type": "code",
   "execution_count": 98,
   "id": "db47cccb-ba09-4c8f-a77a-5f16e0fbab72",
   "metadata": {},
   "outputs": [
    {
     "data": {
      "text/plain": [
       "precio_de_venta\n",
       "300000.0     176\n",
       "350000.0     173\n",
       "550000.0     164\n",
       "600000.0     155\n",
       "450000.0     154\n",
       "            ... \n",
       "1145000.0      1\n",
       "531000.0       1\n",
       "168000.0       1\n",
       "1515000.0      1\n",
       "746000.0       1\n",
       "Name: count, Length: 557, dtype: int64"
      ]
     },
     "execution_count": 98,
     "metadata": {},
     "output_type": "execute_result"
    }
   ],
   "source": [
    "#total de personas con enfermedad cardiaca\n",
    "Datos['precio_de_venta'].value_counts()"
   ]
  },
  {
   "cell_type": "code",
   "execution_count": 55,
   "id": "bd7e3744-1483-4f2c-b680-6b206710a36c",
   "metadata": {},
   "outputs": [
    {
     "data": {
      "text/html": [
       "<div>\n",
       "<style scoped>\n",
       "    .dataframe tbody tr th:only-of-type {\n",
       "        vertical-align: middle;\n",
       "    }\n",
       "\n",
       "    .dataframe tbody tr th {\n",
       "        vertical-align: top;\n",
       "    }\n",
       "\n",
       "    .dataframe thead th {\n",
       "        text-align: right;\n",
       "    }\n",
       "</style>\n",
       "<table border=\"1\" class=\"dataframe\">\n",
       "  <thead>\n",
       "    <tr style=\"text-align: right;\">\n",
       "      <th></th>\n",
       "      <th>precio_de_venta</th>\n",
       "    </tr>\n",
       "  </thead>\n",
       "  <tbody>\n",
       "    <tr>\n",
       "      <th>0</th>\n",
       "      <td>450000.000000</td>\n",
       "    </tr>\n",
       "    <tr>\n",
       "      <th>1</th>\n",
       "      <td>370000.000000</td>\n",
       "    </tr>\n",
       "    <tr>\n",
       "      <th>2</th>\n",
       "      <td>656697.467317</td>\n",
       "    </tr>\n",
       "    <tr>\n",
       "      <th>3</th>\n",
       "      <td>225000.000000</td>\n",
       "    </tr>\n",
       "    <tr>\n",
       "      <th>4</th>\n",
       "      <td>656697.467317</td>\n",
       "    </tr>\n",
       "    <tr>\n",
       "      <th>5</th>\n",
       "      <td>440000.000000</td>\n",
       "    </tr>\n",
       "    <tr>\n",
       "      <th>6</th>\n",
       "      <td>656697.467317</td>\n",
       "    </tr>\n",
       "    <tr>\n",
       "      <th>8</th>\n",
       "      <td>350000.000000</td>\n",
       "    </tr>\n",
       "    <tr>\n",
       "      <th>9</th>\n",
       "      <td>200000.000000</td>\n",
       "    </tr>\n",
       "    <tr>\n",
       "      <th>10</th>\n",
       "      <td>500000.000000</td>\n",
       "    </tr>\n",
       "    <tr>\n",
       "      <th>11</th>\n",
       "      <td>92000.000000</td>\n",
       "    </tr>\n",
       "    <tr>\n",
       "      <th>12</th>\n",
       "      <td>280000.000000</td>\n",
       "    </tr>\n",
       "    <tr>\n",
       "      <th>13</th>\n",
       "      <td>200000.000000</td>\n",
       "    </tr>\n",
       "    <tr>\n",
       "      <th>14</th>\n",
       "      <td>180000.000000</td>\n",
       "    </tr>\n",
       "    <tr>\n",
       "      <th>15</th>\n",
       "      <td>400000.000000</td>\n",
       "    </tr>\n",
       "    <tr>\n",
       "      <th>17</th>\n",
       "      <td>500000.000000</td>\n",
       "    </tr>\n",
       "    <tr>\n",
       "      <th>18</th>\n",
       "      <td>150000.000000</td>\n",
       "    </tr>\n",
       "    <tr>\n",
       "      <th>19</th>\n",
       "      <td>680000.000000</td>\n",
       "    </tr>\n",
       "    <tr>\n",
       "      <th>20</th>\n",
       "      <td>174000.000000</td>\n",
       "    </tr>\n",
       "    <tr>\n",
       "      <th>21</th>\n",
       "      <td>950000.000000</td>\n",
       "    </tr>\n",
       "    <tr>\n",
       "      <th>22</th>\n",
       "      <td>525000.000000</td>\n",
       "    </tr>\n",
       "    <tr>\n",
       "      <th>23</th>\n",
       "      <td>600000.000000</td>\n",
       "    </tr>\n",
       "    <tr>\n",
       "      <th>24</th>\n",
       "      <td>500000.000000</td>\n",
       "    </tr>\n",
       "    <tr>\n",
       "      <th>25</th>\n",
       "      <td>575000.000000</td>\n",
       "    </tr>\n",
       "    <tr>\n",
       "      <th>26</th>\n",
       "      <td>275000.000000</td>\n",
       "    </tr>\n",
       "    <tr>\n",
       "      <th>28</th>\n",
       "      <td>220000.000000</td>\n",
       "    </tr>\n",
       "    <tr>\n",
       "      <th>30</th>\n",
       "      <td>670000.000000</td>\n",
       "    </tr>\n",
       "    <tr>\n",
       "      <th>31</th>\n",
       "      <td>70000.000000</td>\n",
       "    </tr>\n",
       "    <tr>\n",
       "      <th>32</th>\n",
       "      <td>150000.000000</td>\n",
       "    </tr>\n",
       "    <tr>\n",
       "      <th>33</th>\n",
       "      <td>730000.000000</td>\n",
       "    </tr>\n",
       "  </tbody>\n",
       "</table>\n",
       "</div>"
      ],
      "text/plain": [
       "    precio_de_venta\n",
       "0     450000.000000\n",
       "1     370000.000000\n",
       "2     656697.467317\n",
       "3     225000.000000\n",
       "4     656697.467317\n",
       "5     440000.000000\n",
       "6     656697.467317\n",
       "8     350000.000000\n",
       "9     200000.000000\n",
       "10    500000.000000\n",
       "11     92000.000000\n",
       "12    280000.000000\n",
       "13    200000.000000\n",
       "14    180000.000000\n",
       "15    400000.000000\n",
       "17    500000.000000\n",
       "18    150000.000000\n",
       "19    680000.000000\n",
       "20    174000.000000\n",
       "21    950000.000000\n",
       "22    525000.000000\n",
       "23    600000.000000\n",
       "24    500000.000000\n",
       "25    575000.000000\n",
       "26    275000.000000\n",
       "28    220000.000000\n",
       "30    670000.000000\n",
       "31     70000.000000\n",
       "32    150000.000000\n",
       "33    730000.000000"
      ]
     },
     "execution_count": 55,
     "metadata": {},
     "output_type": "execute_result"
    }
   ],
   "source": [
    "Datos[['precio_de_venta']].head(30)"
   ]
  },
  {
   "cell_type": "markdown",
   "id": "613bc0b8-98e2-41e6-8668-97a276dc76f0",
   "metadata": {},
   "source": [
    "4. Dividir el dataset en Train y Test para evaluar correctamente el \n",
    "modelo."
   ]
  },
  {
   "cell_type": "code",
   "execution_count": 106,
   "id": "98c56ccd-5d4e-4c25-ac55-975c1e1e7711",
   "metadata": {},
   "outputs": [],
   "source": [
    "from sklearn.model_selection import train_test_split\n",
    "\n",
    "# Dividir los datos en variables independientes (X) y variable objetivo (Y)\n",
    "X = Datos.drop('precio_de_venta', axis=1)\n",
    "Y = Datos['precio_de_venta']\n",
    "\n",
    "# Dividir los datos en conjuntos de entrenamiento y prueba sin estratificación\n",
    "X_train, X_test, Y_train, Y_test = train_test_split(X, Y, test_size=0.25, random_state=0)"
   ]
  },
  {
   "cell_type": "code",
   "execution_count": 107,
   "id": "05e167e9-8085-4902-85fb-ddf0a79ad835",
   "metadata": {},
   "outputs": [
    {
     "name": "stdout",
     "output_type": "stream",
     "text": [
      "                                     nombre     ano  km_recorridos  \\\n",
      "328                          Maruti Zen LXI  2003.0        60000.0   \n",
      "1518                  Maruti Swift DDiS LDI  2017.0        35000.0   \n",
      "5701                      Hyundai i10 Magna  2011.0        40000.0   \n",
      "3754  Ford Fiesta Classic 1.4 Duratorq CLXI  2012.0        60000.0   \n",
      "3266                 Hyundai i20 1.4 Sportz  2018.0        35000.0   \n",
      "...                                     ...     ...            ...   \n",
      "6679                   Honda Civic 1.8 S MT  2006.0        70000.0   \n",
      "4421                Maruti Baleno Alpha 1.3  2018.0        38817.0   \n",
      "2246              Chevrolet Sail 1.2 LS ABS  2015.0        50000.0   \n",
      "3535             Tata Zest Quadrajet 1.3 XM  2015.0       100000.0   \n",
      "3724                   Hyundai Verna 1.6 SX  2013.0        88000.0   \n",
      "\n",
      "     combustible tipo_vendedor trasmision                 dueno kilometraje  \\\n",
      "328       Petrol    Individual     Manual  Fourth & Above Owner   17.3 kmpl   \n",
      "1518      Diesel    Individual     Manual           First Owner   28.4 kmpl   \n",
      "5701      Petrol    Individual     Manual          Second Owner  20.36 kmpl   \n",
      "3754      Diesel    Individual     Manual           First Owner   17.8 kmpl   \n",
      "3266      Diesel    Individual     Manual           First Owner  22.54 kmpl   \n",
      "...          ...           ...        ...                   ...         ...   \n",
      "6679      Petrol    Individual     Manual          Second Owner   13.5 kmpl   \n",
      "4421      Diesel        Dealer     Manual           First Owner  27.39 kmpl   \n",
      "2246      Petrol    Individual     Manual           First Owner   18.2 kmpl   \n",
      "3535      Diesel    Individual     Manual           First Owner   23.0 kmpl   \n",
      "3724      Diesel    Individual     Manual          Second Owner  22.32 kmpl   \n",
      "\n",
      "        motor poder_maximo                 torque  asientos  \n",
      "328    993 CC       60 bhp          78Nm@ 4500rpm       5.0  \n",
      "1518  1248 CC       74 bhp         190Nm@ 2000rpm       5.0  \n",
      "5701  1197 CC     78.9 bhp       111.7Nm@ 4000rpm       5.0  \n",
      "3754  1399 CC       67 bhp         160Nm@ 2000rpm       5.0  \n",
      "3266  1396 CC    88.73 bhp  219.7Nm@ 1500-2750rpm       5.0  \n",
      "...       ...          ...                    ...       ...  \n",
      "6679  1799 CC      130 bhp         172Nm@ 4300rpm       5.0  \n",
      "4421  1248 CC       74 bhp         190Nm@ 2000rpm       5.0  \n",
      "2246  1199 CC     82.4 bhp       108.5Nm@ 5000rpm       5.0  \n",
      "3535  1248 CC     88.7 bhp    200Nm@ 1750-3000rpm       5.0  \n",
      "3724  1582 CC   126.32 bhp  259.8Nm@ 1900-2750rpm       5.0  \n",
      "\n",
      "[4504 rows x 12 columns]\n"
     ]
    }
   ],
   "source": [
    "print(X_train)"
   ]
  },
  {
   "cell_type": "code",
   "execution_count": 108,
   "id": "86b2d911-c942-4f15-863f-7c326635ada8",
   "metadata": {},
   "outputs": [
    {
     "name": "stdout",
     "output_type": "stream",
     "text": [
      "328      65000.0\n",
      "1518    500000.0\n",
      "5701    215000.0\n",
      "3754    330000.0\n",
      "3266    780000.0\n",
      "          ...   \n",
      "6679    121000.0\n",
      "4421    740000.0\n",
      "2246    350000.0\n",
      "3535    400000.0\n",
      "3724    520000.0\n",
      "Name: precio_de_venta, Length: 4504, dtype: float64\n"
     ]
    }
   ],
   "source": [
    "print (Y_train)"
   ]
  },
  {
   "cell_type": "markdown",
   "id": "6dcad973-ea68-4814-aa8f-d6e0f4480712",
   "metadata": {},
   "source": [
    "5.Entrenar el modelo configurando los diferentes hiperparámetros."
   ]
  },
  {
   "cell_type": "code",
   "execution_count": 114,
   "id": "2e4f2b1e-722e-41d4-9705-6b48b578738f",
   "metadata": {},
   "outputs": [],
   "source": [
    "# Codificar características categóricas usando One-Hot Encoding\n",
    "X_train_encoded = pd.get_dummies(X_train)\n",
    "X_test_encoded = pd.get_dummies(X_test)\n",
    "\n",
    "# Alinear las columnas en los conjuntos de entrenamiento y prueba\n",
    "X_train_aligned, X_test_aligned = X_train_encoded.align(X_test_encoded, join='outer', axis=1, fill_value=0)\n",
    "\n",
    "# Entrenar el modelo\n",
    "modelo_regresion.fit(X_train_aligned, Y_train)\n",
    "\n",
    "# Crear la predicción\n",
    "Prediccion = modelo_regresion.predict(X_test_aligned)\n",
    "\n",
    "\n"
   ]
  },
  {
   "cell_type": "code",
   "execution_count": 115,
   "id": "2d86cbdc-a4b5-47ab-bd1f-c97b6122ac05",
   "metadata": {},
   "outputs": [
    {
     "name": "stdout",
     "output_type": "stream",
     "text": [
      "5887     330000.0\n",
      "1847     550000.0\n",
      "5131     500000.0\n",
      "608      350000.0\n",
      "1858    5150000.0\n",
      "          ...    \n",
      "6298    1050000.0\n",
      "3080    3200000.0\n",
      "4284     350000.0\n",
      "7376     750000.0\n",
      "3863     190000.0\n",
      "Name: precio_de_venta, Length: 1502, dtype: float64\n"
     ]
    }
   ],
   "source": [
    "print (Y_test)"
   ]
  },
  {
   "cell_type": "code",
   "execution_count": 116,
   "id": "7718b3ca-9b61-4416-8cf5-f98dac986b04",
   "metadata": {},
   "outputs": [
    {
     "name": "stdout",
     "output_type": "stream",
     "text": [
      "[300000. 650000. 300000. ... 300000. 300000. 300000.]\n"
     ]
    }
   ],
   "source": [
    "print (Prediccion)"
   ]
  },
  {
   "cell_type": "markdown",
   "id": "c5dee7e9-415c-4ecc-8ce7-a65386e42c8a",
   "metadata": {},
   "source": [
    "6. Evaluar el desempeño del modelo en el conjunto de Test con \n",
    "métricas como precisión, recall, F1-score, etc."
   ]
  },
  {
   "cell_type": "code",
   "execution_count": 119,
   "id": "9a179697-5e7c-44b0-a9e8-a7613907ad85",
   "metadata": {},
   "outputs": [
    {
     "name": "stdout",
     "output_type": "stream",
     "text": [
      "Accuracy: 0.04460719041278296\n",
      "Precision: 0.01694050511929107\n",
      "Recall: 0.04460719041278296\n",
      "F1-score: 0.019773094654519832\n"
     ]
    },
    {
     "name": "stderr",
     "output_type": "stream",
     "text": [
      "C:\\Users\\javie\\anaconda3\\Lib\\site-packages\\sklearn\\metrics\\_classification.py:1344: UndefinedMetricWarning: Precision is ill-defined and being set to 0.0 in labels with no predicted samples. Use `zero_division` parameter to control this behavior.\n",
      "  _warn_prf(average, modifier, msg_start, len(result))\n",
      "C:\\Users\\javie\\anaconda3\\Lib\\site-packages\\sklearn\\metrics\\_classification.py:1344: UndefinedMetricWarning: Recall is ill-defined and being set to 0.0 in labels with no true samples. Use `zero_division` parameter to control this behavior.\n",
      "  _warn_prf(average, modifier, msg_start, len(result))\n"
     ]
    }
   ],
   "source": [
    "from sklearn.metrics import accuracy_score, precision_score, recall_score, f1_score\n",
    "\n",
    "# Calcular las métricas\n",
    "accuracy = accuracy_score(Y_test, Prediccion)\n",
    "precision = precision_score(Y_test, Prediccion, average='weighted')\n",
    "recall = recall_score(Y_test, Prediccion, average='weighted')\n",
    "f1 = f1_score(Y_test, Prediccion, average='weighted')\n",
    "\n",
    "# Imprimir las métricas\n",
    "print(\"Accuracy:\", accuracy)\n",
    "print(\"Precision:\", precision)\n",
    "print(\"Recall:\", recall)\n",
    "print(\"F1-score:\", f1)\n"
   ]
  },
  {
   "cell_type": "markdown",
   "id": "abbaf24d-0494-4df9-bbdd-288f0da2a6cc",
   "metadata": {},
   "source": [
    "7. Realizar las diferentes gráficas que permitan visualizar los \n",
    "resultados del modelo."
   ]
  },
  {
   "cell_type": "code",
   "execution_count": 124,
   "id": "da39b27e-d93b-4711-8b86-4b95bbf8b0b9",
   "metadata": {},
   "outputs": [
    {
     "data": {
      "image/png": "[encoded data removed]",
      "text/plain": [
       "<Figure size 640x480 with 1 Axes>"
      ]
     },
     "metadata": {},
     "output_type": "display_data"
    }
   ],
   "source": [
    "import matplotlib.pyplot as plt\n",
    "\n",
    "plt.scatter(Y_test, Prediccion)\n",
    "plt.xlabel(\"Valores reales\")\n",
    "plt.ylabel(\"Predicciones\")\n",
    "plt.title(\"Valores reales vs. Predicciones\")\n",
    "plt.show()"
   ]
  },
  {
   "cell_type": "code",
   "execution_count": 125,
   "id": "214bd1e6-9e21-4d5c-9ece-f33c47249634",
   "metadata": {},
   "outputs": [
    {
     "data": {
      "image/png": "[encoded data removed]",
      "text/plain": [
       "<Figure size 640x480 with 1 Axes>"
      ]
     },
     "metadata": {},
     "output_type": "display_data"
    }
   ],
   "source": [
    "import matplotlib.pyplot as plt\n",
    "\n",
    "errores = Y_test - Prediccion\n",
    "plt.hist(errores, bins=20)\n",
    "plt.xlabel(\"Error de predicción\")\n",
    "plt.ylabel(\"Frecuencia\")\n",
    "plt.title(\"Histograma de errores de predicción\")\n",
    "plt.show()"
   ]
  },
  {
   "cell_type": "code",
   "execution_count": null,
   "id": "dda734e2-1e0c-4d3a-8af7-b3612057c356",
   "metadata": {},
   "outputs": [],
   "source": []
  }
 ],
 "metadata": {
  "kernelspec": {
   "display_name": "Python 3 (ipykernel)",
   "language": "python",
   "name": "python3"
  },
  "language_info": {
   "codemirror_mode": {
    "name": "ipython",
    "version": 3
   },
   "file_extension": ".py",
   "mimetype": "text/x-python",
   "name": "python",
   "nbconvert_exporter": "python",
   "pygments_lexer": "ipython3",
   "version": "3.11.7"
  }
 },
 "nbformat": 4,
 "nbformat_minor": 5
}
